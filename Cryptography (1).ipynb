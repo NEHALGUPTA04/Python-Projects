{
  "nbformat": 4,
  "nbformat_minor": 0,
  "metadata": {
    "colab": {
      "name": "Cryptography.ipynb",
      "provenance": []
    },
    "kernelspec": {
      "name": "python3",
      "display_name": "Python 3"
    }
  },
  "cells": [
    {
      "cell_type": "code",
      "metadata": {
        "colab": {
          "base_uri": "https://localhost:8080/"
        },
        "id": "bXqefOUWnQlx",
        "outputId": "8f1b88c2-c9ae-4269-a224-10ddde01202c"
      },
      "source": [
        "#CRYPTOGRAPHY\r\n",
        "!pip install cryptography\r\n"
      ],
      "execution_count": null,
      "outputs": [
        {
          "output_type": "stream",
          "text": [
            "Collecting cryptography\n",
            "\u001b[?25l  Downloading https://files.pythonhosted.org/packages/c9/de/7054df0620b5411ba45480f0261e1fb66a53f3db31b28e3aa52c026e72d9/cryptography-3.3.1-cp36-abi3-manylinux2010_x86_64.whl (2.6MB)\n",
            "\u001b[K     |████████████████████████████████| 2.6MB 5.8MB/s \n",
            "\u001b[?25hRequirement already satisfied: six>=1.4.1 in /usr/local/lib/python3.6/dist-packages (from cryptography) (1.15.0)\n",
            "Requirement already satisfied: cffi>=1.12 in /usr/local/lib/python3.6/dist-packages (from cryptography) (1.14.4)\n",
            "Requirement already satisfied: pycparser in /usr/local/lib/python3.6/dist-packages (from cffi>=1.12->cryptography) (2.20)\n",
            "Installing collected packages: cryptography\n",
            "Successfully installed cryptography-3.3.1\n"
          ],
          "name": "stdout"
        }
      ]
    },
    {
      "cell_type": "code",
      "metadata": {
        "colab": {
          "base_uri": "https://localhost:8080/"
        },
        "id": "xogJjgsIoW9k",
        "outputId": "426ce6e3-553a-439a-b7ea-ff7881497a94"
      },
      "source": [
        " from cryptography.fernet import Fernet\r\n",
        " def generatePassword():\r\n",
        "    key = Fernet.generate_key()\r\n",
        "    print(key)\r\n",
        "    print(type(key))\r\n",
        "    pswrd = open(\"Password.key\",'wb')\r\n",
        "    pswrd.write(key)\r\n",
        "    pswrd.close()\r\n",
        "generatePassword()\r\n",
        "    "
      ],
      "execution_count": null,
      "outputs": [
        {
          "output_type": "stream",
          "text": [
            "b'a1C1MLIk8MkV5QM9HG5Ap0JxcM9H7uYeZQkLP2PaKIE='\n",
            "<class 'bytes'>\n"
          ],
          "name": "stdout"
        }
      ]
    },
    {
      "cell_type": "code",
      "metadata": {
        "colab": {
          "base_uri": "https://localhost:8080/"
        },
        "id": "BV4tZKoF7iJX",
        "outputId": "6ef41732-812e-43e0-d153-7a95600a31fe"
      },
      "source": [
        "def getMyPasskey():\r\n",
        "    pswrd=open(\"Password.key\",'rb')\r\n",
        "    return pswrd.read()\r\n",
        "getMyPasskey()"
      ],
      "execution_count": null,
      "outputs": [
        {
          "output_type": "execute_result",
          "data": {
            "text/plain": [
              "b'a1C1MLIk8MkV5QM9HG5Ap0JxcM9H7uYeZQkLP2PaKIE='"
            ]
          },
          "metadata": {
            "tags": []
          },
          "execution_count": 46
        }
      ]
    },
    {
      "cell_type": "code",
      "metadata": {
        "colab": {
          "base_uri": "https://localhost:8080/"
        },
        "id": "laHDfRkd-dl5",
        "outputId": "97ff6a80-4676-4405-a721-fcd6149ef4da"
      },
      "source": [
        "def encryptUserMessage(message):\r\n",
        "    key=getMyPasskey()\r\n",
        "    pswrdkey=Fernet(key)\r\n",
        "    encrypted_message=pswrdkey.encrypt(message)\r\n",
        "    return encrypted_message\r\n",
        "encryptMessage(b\"ATM PIN --> 1122\")"
      ],
      "execution_count": null,
      "outputs": [
        {
          "output_type": "execute_result",
          "data": {
            "text/plain": [
              "b'gAAAAABf22YLuN03jltdEVRPY1t2WSpwM3TiWuUsK7R0keFFI95u5ugSkDGf6B2DqUVe6OVuboIDYhplfeJq1DX01-J5x5bt8d4GW4iCkY-BFsnEblG65BY='"
            ]
          },
          "metadata": {
            "tags": []
          },
          "execution_count": 60
        }
      ]
    },
    {
      "cell_type": "code",
      "metadata": {
        "colab": {
          "base_uri": "https://localhost:8080/"
        },
        "id": "RHqm_w8rAMN4",
        "outputId": "27783037-b687-4d06-d319-7d0ce4dda783"
      },
      "source": [
        "def decryptUserMessage(secret):\r\n",
        "    key=getMyPasskey()\r\n",
        "    pswrdkey=Fernet(key)\r\n",
        "    decrypted_message=pswrdkey.decrypt(secret)\r\n",
        "    return decrypted_message\r\n",
        "decryptMessage(b'gAAAAABf22YLuN03jltdEVRPY1t2WSpwM3TiWuUsK7R0keFFI95u5ugSkDGf6B2DqUVe6OVuboIDYhplfeJq1DX01-J5x5bt8d4GW4iCkY-BFsnEblG65BY=')"
      ],
      "execution_count": null,
      "outputs": [
        {
          "output_type": "execute_result",
          "data": {
            "text/plain": [
              "b'ATM PIN --> 1122'"
            ]
          },
          "metadata": {
            "tags": []
          },
          "execution_count": 63
        }
      ]
    }
  ]
}