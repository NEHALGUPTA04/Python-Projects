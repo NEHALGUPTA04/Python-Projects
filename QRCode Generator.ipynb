{
 "cells": [
  {
   "cell_type": "code",
   "execution_count": 1,
   "metadata": {},
   "outputs": [
    {
     "name": "stdout",
     "output_type": "stream",
     "text": [
      "Collecting qrcode\n",
      "  Downloading qrcode-7.2.tar.gz (43 kB)\n",
      "Requirement already satisfied: colorama in c:\\users\\nehal gupta\\anaconda3\\anaconda3\\lib\\site-packages (from qrcode) (0.4.4)\n",
      "Building wheels for collected packages: qrcode\n",
      "  Building wheel for qrcode (setup.py): started\n",
      "  Building wheel for qrcode (setup.py): finished with status 'done'\n",
      "  Created wheel for qrcode: filename=qrcode-7.2-py3-none-any.whl size=39922 sha256=3dbddabfa36501041e511d9dacda1907d3ea7c94570aefceb1fc55c110ecfcfb\n",
      "  Stored in directory: c:\\users\\nehal gupta\\appdata\\local\\pip\\cache\\wheels\\49\\64\\0c\\d6ee976d65c5cafbf64766412668e2caa224f6d5a76035ab77\n",
      "Successfully built qrcode\n",
      "Installing collected packages: qrcode\n",
      "Successfully installed qrcode-7.2\n"
     ]
    }
   ],
   "source": [
    "!pip install qrcode"
   ]
  },
  {
   "cell_type": "code",
   "execution_count": 6,
   "metadata": {},
   "outputs": [],
   "source": [
    "import qrcode"
   ]
  },
  {
   "cell_type": "code",
   "execution_count": 7,
   "metadata": {},
   "outputs": [],
   "source": [
    "img = qrcode.make(\"https://www.youtube.com/channel/UCcJJ8bE2eLIGrUm8tHsVxSQ\")\n",
    "\n",
    "img.save(\"Nehal Gupta Youtube Channel\")"
   ]
  },
  {
   "cell_type": "code",
   "execution_count": null,
   "metadata": {},
   "outputs": [],
   "source": []
  }
 ],
 "metadata": {
  "kernelspec": {
   "display_name": "Python 3",
   "language": "python",
   "name": "python3"
  },
  "language_info": {
   "codemirror_mode": {
    "name": "ipython",
    "version": 3
   },
   "file_extension": ".py",
   "mimetype": "text/x-python",
   "name": "python",
   "nbconvert_exporter": "python",
   "pygments_lexer": "ipython3",
   "version": "3.8.5"
  }
 },
 "nbformat": 4,
 "nbformat_minor": 4
}
