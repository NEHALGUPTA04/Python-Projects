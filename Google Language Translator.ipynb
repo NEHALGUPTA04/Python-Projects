{
 "cells": [
  {
   "cell_type": "code",
   "execution_count": 4,
   "metadata": {
    "scrolled": true
   },
   "outputs": [
    {
     "name": "stdout",
     "output_type": "stream",
     "text": [
      "Collecting googletrans==3.1.0a0\n",
      "  Downloading googletrans-3.1.0a0.tar.gz (19 kB)\n",
      "Requirement already satisfied: httpx==0.13.3 in c:\\users\\nehal gupta\\anaconda3\\anaconda3\\lib\\site-packages (from googletrans==3.1.0a0) (0.13.3)\n",
      "Requirement already satisfied: certifi in c:\\users\\nehal gupta\\anaconda3\\anaconda3\\lib\\site-packages (from httpx==0.13.3->googletrans==3.1.0a0) (2020.6.20)\n",
      "Requirement already satisfied: httpcore==0.9.* in c:\\users\\nehal gupta\\anaconda3\\anaconda3\\lib\\site-packages (from httpx==0.13.3->googletrans==3.1.0a0) (0.9.1)\n",
      "Requirement already satisfied: rfc3986<2,>=1.3 in c:\\users\\nehal gupta\\anaconda3\\anaconda3\\lib\\site-packages (from httpx==0.13.3->googletrans==3.1.0a0) (1.5.0)\n",
      "Requirement already satisfied: sniffio in c:\\users\\nehal gupta\\anaconda3\\anaconda3\\lib\\site-packages (from httpx==0.13.3->googletrans==3.1.0a0) (1.2.0)\n",
      "Requirement already satisfied: chardet==3.* in c:\\users\\nehal gupta\\anaconda3\\anaconda3\\lib\\site-packages (from httpx==0.13.3->googletrans==3.1.0a0) (3.0.4)\n",
      "Requirement already satisfied: idna==2.* in c:\\users\\nehal gupta\\anaconda3\\anaconda3\\lib\\site-packages (from httpx==0.13.3->googletrans==3.1.0a0) (2.10)\n",
      "Requirement already satisfied: hstspreload in c:\\users\\nehal gupta\\anaconda3\\anaconda3\\lib\\site-packages (from httpx==0.13.3->googletrans==3.1.0a0) (2021.8.1)\n",
      "Requirement already satisfied: h2==3.* in c:\\users\\nehal gupta\\anaconda3\\anaconda3\\lib\\site-packages (from httpcore==0.9.*->httpx==0.13.3->googletrans==3.1.0a0) (3.2.0)\n",
      "Requirement already satisfied: h11<0.10,>=0.8 in c:\\users\\nehal gupta\\anaconda3\\anaconda3\\lib\\site-packages (from httpcore==0.9.*->httpx==0.13.3->googletrans==3.1.0a0) (0.9.0)\n",
      "Requirement already satisfied: hpack<4,>=3.0 in c:\\users\\nehal gupta\\anaconda3\\anaconda3\\lib\\site-packages (from h2==3.*->httpcore==0.9.*->httpx==0.13.3->googletrans==3.1.0a0) (3.0.0)\n",
      "Requirement already satisfied: hyperframe<6,>=5.2.0 in c:\\users\\nehal gupta\\anaconda3\\anaconda3\\lib\\site-packages (from h2==3.*->httpcore==0.9.*->httpx==0.13.3->googletrans==3.1.0a0) (5.2.0)\n",
      "Building wheels for collected packages: googletrans\n",
      "  Building wheel for googletrans (setup.py): started\n",
      "  Building wheel for googletrans (setup.py): finished with status 'done'\n",
      "  Created wheel for googletrans: filename=googletrans-3.1.0a0-py3-none-any.whl size=16378 sha256=b855a23452869c9aea2a2cb1f2453d57f4741ae0c2b755489e30a1cf8d457ae8\n",
      "  Stored in directory: c:\\users\\nehal gupta\\appdata\\local\\pip\\cache\\wheels\\dd\\59\\af\\8d6c96a719763990f1c548e36b17d9efdfb767f42f7ff39f53\n",
      "Successfully built googletrans\n",
      "Installing collected packages: googletrans\n",
      "  Attempting uninstall: googletrans\n",
      "    Found existing installation: googletrans 3.0.0\n",
      "    Uninstalling googletrans-3.0.0:\n",
      "      Successfully uninstalled googletrans-3.0.0\n",
      "Successfully installed googletrans-3.1.0a0\n"
     ]
    }
   ],
   "source": [
    "!pip install googletrans==3.1.0a0"
   ]
  },
  {
   "cell_type": "code",
   "execution_count": 7,
   "metadata": {},
   "outputs": [],
   "source": [
    "from googletrans import Translator"
   ]
  },
  {
   "cell_type": "code",
   "execution_count": 8,
   "metadata": {},
   "outputs": [],
   "source": [
    "translator = Translator()"
   ]
  },
  {
   "cell_type": "code",
   "execution_count": 12,
   "metadata": {},
   "outputs": [
    {
     "name": "stdout",
     "output_type": "stream",
     "text": [
      "सभी को नमस्कार, मैं हूँ नेहल गुप्ता !!\n",
      "             मैं केवल डेटा डेटा और डेटा के बारे में बहुत भावुक हूं\n"
     ]
    }
   ],
   "source": [
    "mystory = '''Hello everyone,I am Nehal Gupta!!\n",
    "             i am Very much passionate about data data and data only'''\n",
    "\n",
    "output = translator.translate(mystory, dest= 'hi')\n",
    "\n",
    "print(output.text)"
   ]
  },
  {
   "cell_type": "code",
   "execution_count": 13,
   "metadata": {},
   "outputs": [
    {
     "name": "stdout",
     "output_type": "stream",
     "text": [
      "Hello everyone, I am Nehal Gupta!!\n",
      "             I am very passionate about data data and data only\n"
     ]
    }
   ],
   "source": [
    "mystory = '''सभी को नमस्कार, मैं हूँ नेहल गुप्ता !!\n",
    "             मैं केवल डेटा डेटा और डेटा के बारे में बहुत भावुक हूं'''\n",
    "\n",
    "output = translator.translate(mystory, dest= 'en')\n",
    "\n",
    "print(output.text)"
   ]
  },
  {
   "cell_type": "code",
   "execution_count": 14,
   "metadata": {},
   "outputs": [
    {
     "name": "stdout",
     "output_type": "stream",
     "text": [
      "Bonjour à tous, je suis Nehal Gupta !!\n",
      "             je suis très passionné par les données et les données uniquement\n"
     ]
    }
   ],
   "source": [
    "mystory = '''Hello everyone,I am Nehal Gupta!!\n",
    "             i am Very much passionate about data data and data only'''\n",
    "\n",
    "output = translator.translate(mystory, dest= 'fr')\n",
    "\n",
    "print(output.text)"
   ]
  },
  {
   "cell_type": "markdown",
   "metadata": {},
   "source": [
    "## We can ctranslate any language to any other language by using the codes for different language by using this documentation:\n",
    "\n",
    "https://pypi.org/project/googletrans/\n",
    "\n",
    "\n",
    "## THANK YOU:)"
   ]
  },
  {
   "cell_type": "code",
   "execution_count": null,
   "metadata": {},
   "outputs": [],
   "source": []
  }
 ],
 "metadata": {
  "kernelspec": {
   "display_name": "Python 3",
   "language": "python",
   "name": "python3"
  },
  "language_info": {
   "codemirror_mode": {
    "name": "ipython",
    "version": 3
   },
   "file_extension": ".py",
   "mimetype": "text/x-python",
   "name": "python",
   "nbconvert_exporter": "python",
   "pygments_lexer": "ipython3",
   "version": "3.8.5"
  }
 },
 "nbformat": 4,
 "nbformat_minor": 4
}
